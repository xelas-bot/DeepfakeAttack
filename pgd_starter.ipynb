{
 "cells": [
  {
   "cell_type": "code",
   "execution_count": 1,
   "metadata": {},
   "outputs": [
    {
     "name": "stderr",
     "output_type": "stream",
     "text": [
      "C:\\Users\\shrey\\AppData\\Local\\Packages\\PythonSoftwareFoundation.Python.3.10_qbz5n2kfra8p0\\LocalCache\\local-packages\\Python310\\site-packages\\tslearn\\bases\\bases.py:15: UserWarning: h5py not installed, hdf5 features will not be supported.\n",
      "Install h5py to use hdf5 features: http://docs.h5py.org/\n",
      "  warn(h5py_msg)\n"
     ]
    }
   ],
   "source": [
    "import os\n",
    "from pathlib import Path\n",
    "\n",
    "\n",
    "import pandas\n",
    "\n",
    "import numpy as np\n",
    "import soundfile as sf\n",
    "import torch\n",
    "# from torch_stoi import NegSTOILoss\n",
    "import matplotlib.pyplot as plt\n",
    "\n",
    "from encoder.params_data import *\n",
    "\n",
    "\n",
    "from encoder import inference as encoder\n",
    "from synthesizer.inference import Synthesizer\n",
    "from utils.default_models import ensure_default_models\n",
    "from vocoder import inference as vocoder\n",
    "\n",
    "from loss_functions import *\n",
    "from utils_pgd import *"
   ]
  },
  {
   "cell_type": "code",
   "execution_count": 2,
   "metadata": {},
   "outputs": [
    {
     "name": "stdout",
     "output_type": "stream",
     "text": [
      "Using CPU for inference.\n",
      "\n",
      "Preparing the encoder, the synthesizer and the vocoder...\n",
      "Loaded encoder \"encoder.pt\" trained to step 1564501\n",
      "Synthesizer using device: cpu\n",
      "Building Wave-RNN\n",
      "Trainable Parameters: 4.481M\n",
      "Loading model weights at saved_models\\default\\vocoder.pt\n"
     ]
    }
   ],
   "source": [
    "if torch.cuda.is_available():\n",
    "    device_id = torch.cuda.current_device()\n",
    "    gpu_properties = torch.cuda.get_device_properties(device_id)\n",
    "    ## Print some environment information (for debugging purposes)\n",
    "    print(\"Found %d GPUs available. Using GPU %d (%s) of compute capability %d.%d with \"\n",
    "        \"%.1fGb total memory.\\n\" %\n",
    "        (torch.cuda.device_count(),\n",
    "        device_id,\n",
    "        gpu_properties.name,\n",
    "        gpu_properties.major,\n",
    "        gpu_properties.minor,\n",
    "        gpu_properties.total_memory / 1e9))\n",
    "else:\n",
    "    print(\"Using CPU for inference.\\n\")\n",
    "\n",
    "# ## Load the models one by one.\n",
    "print(\"Preparing the encoder, the synthesizer and the vocoder...\")\n",
    "\n",
    "ensure_default_models(Path(\"saved_models\"))\n",
    "encoder.load_model(Path(\"saved_models/default/encoder.pt\"))\n",
    "synthesizer = Synthesizer(Path('saved_models/default/synthesizer.pt'))\n",
    "vocoder.load_model(Path('saved_models/default/vocoder.pt'))"
   ]
  },
  {
   "cell_type": "code",
   "execution_count": 3,
   "metadata": {},
   "outputs": [],
   "source": [
    "def genAttacks(loss_func, fwd_pass, input_path_pfx, output_path_pfx, pre):\n",
    "  tokens = pandas.read_csv(pre + f\"clean/labels.csv\")\n",
    "  losses_arr = []\n",
    "\n",
    "  files = []\n",
    "\n",
    "  for index, row in tokens.iterrows():\n",
    "    id = row['ID']\n",
    "    target_path = f'{input_path_pfx}/{id}.wav'\n",
    "    target_text = row['wrd']\n",
    "\n",
    "    if (not os.path.exists(target_path)):\n",
    "        continue\n",
    "\n",
    "    wav_init = getPreProcessedInput(target_path)\n",
    "\n",
    "    noised_data,noise,losses,max_noise,= pgd(target_text, wav_init, fwd_pass, loss_func, nb_iter=200)\n",
    "\n",
    "    losses_arr.append(losses)\n",
    "    files.append(noised_data)\n",
    "\n",
    "    filename = f'{output_path_pfx}/{id}.wav'\n",
    "    sf.write(filename, max_noise.clone().squeeze().detach().numpy().astype(np.float32), 16000)\n",
    "\n",
    "  arr = torch.tensor(losses_arr).clone().detach().numpy()\n",
    "  arr = np.mean(arr,axis=0)\n",
    "  plt.plot(arr)\n",
    "  plt.xlabel('Num Iters')\n",
    "  plt.ylabel(f'Loss ({loss_func.__name__})')\n",
    "  plt.savefig(f'{loss_func.__name__}.png')"
   ]
  },
  {
   "cell_type": "code",
   "execution_count": 4,
   "metadata": {},
   "outputs": [],
   "source": [
    "def compute_forward_pass_spectogram(input_sample,input_speech_text):\n",
    "    gw = FwdPass(input_sample,input_speech_text,only_spectrogram=True)\n",
    "    return gw.float()\n",
    "\n",
    "def compute_forward_pass_waveform(input_sample,input_speech_text):\n",
    "    gw = FwdPass(input_sample,input_speech_text,only_spectrogram=False)\n",
    "    return gw.float()"
   ]
  },
  {
   "cell_type": "markdown",
   "metadata": {},
   "source": [
    "### Generating attacks on the spectogram"
   ]
  },
  {
   "cell_type": "code",
   "execution_count": null,
   "metadata": {},
   "outputs": [],
   "source": [
    "pre = \"/content/gdrive/MyDrive/Colab_Notebooks/mlsp-speech-noiser-2-master/\"\n",
    "genAttacks(l2loss, compute_forward_pass_spectogram, pre + 'clean/test',pre + 'attacks/entropy', pre)\n",
    "genAttacks(crossEntropy, compute_forward_pass_spectogram, pre + 'clean/test',pre + 'attacks/l2', pre)"
   ]
  }
 ],
 "metadata": {
  "kernelspec": {
   "display_name": "Python 3 (ipykernel)",
   "language": "python",
   "name": "python3"
  },
  "language_info": {
   "codemirror_mode": {
    "name": "ipython",
    "version": 3
   },
   "file_extension": ".py",
   "mimetype": "text/x-python",
   "name": "python",
   "nbconvert_exporter": "python",
   "pygments_lexer": "ipython3",
   "version": "3.10.11"
  }
 },
 "nbformat": 4,
 "nbformat_minor": 4
}
